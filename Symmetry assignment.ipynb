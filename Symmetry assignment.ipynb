{
 "cells": [
  {
   "cell_type": "markdown",
   "id": "647f1355-4915-4802-9459-65477225a6b0",
   "metadata": {},
   "source": [
    "1D Object    | identity | inversion | mirror_z | mirror_y | rotation_x_180 |\n",
    "|------------|----------|-----------|----------|----------|----------------|\n",
    "|   scalar   |    1     |     1     |     1    |     1    |        1       |\n",
    "|pseudoscalar|    1     |    -1     |    -1    |    -1    |       -1       |\n",
    "|polar vector|    1     |     1     |    -1    |    -1    |        1       |\n",
    "|axial vector|    1     |    -1     |     1    |    -1    |       -1       |"
   ]
  },
  {
   "cell_type": "code",
   "execution_count": null,
   "id": "9731f3be-fac6-4981-ba4f-8685748a9dd4",
   "metadata": {},
   "outputs": [],
   "source": []
  }
 ],
 "metadata": {
  "kernelspec": {
   "display_name": "Python 3 (ipykernel)",
   "language": "python",
   "name": "python3"
  },
  "language_info": {
   "codemirror_mode": {
    "name": "ipython",
    "version": 3
   },
   "file_extension": ".py",
   "mimetype": "text/x-python",
   "name": "python",
   "nbconvert_exporter": "python",
   "pygments_lexer": "ipython3",
   "version": "3.9.19"
  }
 },
 "nbformat": 4,
 "nbformat_minor": 5
}
